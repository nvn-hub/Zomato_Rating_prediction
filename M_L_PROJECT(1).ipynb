{
 "cells": [
  {
   "cell_type": "code",
   "execution_count": 1,
   "metadata": {},
   "outputs": [],
   "source": [
    "import pandas as pd\n",
    "import numpy as np\n",
    "import matplotlib.pyplot as plt\n",
    "import seaborn as sns\n",
    "\n",
    "%matplotlib inline\n",
    "\n",
    "import warnings\n",
    "warnings.filterwarnings('ignore')"
   ]
  },
  {
   "cell_type": "markdown",
   "metadata": {},
   "source": [
    "# Combining data of 3 cities as csv files "
   ]
  },
  {
   "cell_type": "code",
   "execution_count": null,
   "metadata": {},
   "outputs": [],
   "source": []
  },
  {
   "cell_type": "code",
   "execution_count": 2,
   "metadata": {},
   "outputs": [],
   "source": [
    "#combining zomato datset of 3 cities"
   ]
  },
  {
   "cell_type": "code",
   "execution_count": 3,
   "metadata": {},
   "outputs": [],
   "source": [
    "# import os\n",
    "# import glob\n",
    "# import pandas as pd\n",
    "# os.chdir(\"/home/krishna/ZOMATO CSV\")\n",
    "# extension = 'csv'\n",
    "# all_filenames = [i for i in glob.glob('*.{}'.format(extension))]\n",
    "# #combine all files in the list\n",
    "# combined_csv = pd.concat([pd.read_csv(f) for f in all_filenames ])\n",
    "# #export to csv\n",
    "# combined_csv.to_csv( \"combined_csv.csv\", index=False, encoding='utf-8-sig')"
   ]
  },
  {
   "cell_type": "code",
   "execution_count": null,
   "metadata": {},
   "outputs": [],
   "source": []
  },
  {
   "cell_type": "code",
   "execution_count": 4,
   "metadata": {},
   "outputs": [],
   "source": [
    "data=pd.read_csv(\"/home/krishna/ZOMATO CSV/combined_csv.csv\")"
   ]
  },
  {
   "cell_type": "code",
   "execution_count": 5,
   "metadata": {
    "scrolled": true
   },
   "outputs": [
    {
     "data": {
      "text/html": [
       "<div>\n",
       "<style scoped>\n",
       "    .dataframe tbody tr th:only-of-type {\n",
       "        vertical-align: middle;\n",
       "    }\n",
       "\n",
       "    .dataframe tbody tr th {\n",
       "        vertical-align: top;\n",
       "    }\n",
       "\n",
       "    .dataframe thead th {\n",
       "        text-align: right;\n",
       "    }\n",
       "</style>\n",
       "<table border=\"1\" class=\"dataframe\">\n",
       "  <thead>\n",
       "    <tr style=\"text-align: right;\">\n",
       "      <th></th>\n",
       "      <th>NAME</th>\n",
       "      <th>PRICE</th>\n",
       "      <th>CUSINE_CATEGORY</th>\n",
       "      <th>CITY</th>\n",
       "      <th>REGION</th>\n",
       "      <th>URL</th>\n",
       "      <th>PAGE NO</th>\n",
       "      <th>CUSINE TYPE</th>\n",
       "      <th>TIMING</th>\n",
       "      <th>RATING_TYPE</th>\n",
       "      <th>RATING</th>\n",
       "      <th>VOTES</th>\n",
       "    </tr>\n",
       "  </thead>\n",
       "  <tbody>\n",
       "    <tr>\n",
       "      <th>0</th>\n",
       "      <td>Merrie Berrie</td>\n",
       "      <td>450</td>\n",
       "      <td>Bakery,Fast Food</td>\n",
       "      <td>Coimbatore</td>\n",
       "      <td>Peelamedu</td>\n",
       "      <td>https://www.zomato.com/coimbatore/merrie-berri...</td>\n",
       "      <td>28</td>\n",
       "      <td>Bakery</td>\n",
       "      <td>9am to 9pm(Mon-Sun)</td>\n",
       "      <td>Average</td>\n",
       "      <td>3.3</td>\n",
       "      <td>7</td>\n",
       "    </tr>\n",
       "    <tr>\n",
       "      <th>1</th>\n",
       "      <td>Famous Jigarthanda</td>\n",
       "      <td>250</td>\n",
       "      <td>South Indian</td>\n",
       "      <td>Coimbatore</td>\n",
       "      <td>Ramanathapuram</td>\n",
       "      <td>https://www.zomato.com/coimbatore/famous-jigar...</td>\n",
       "      <td>28</td>\n",
       "      <td>Quick Bites</td>\n",
       "      <td>10am to 10pm(Mon-Sun)</td>\n",
       "      <td>Average</td>\n",
       "      <td>3.3</td>\n",
       "      <td>4</td>\n",
       "    </tr>\n",
       "    <tr>\n",
       "      <th>2</th>\n",
       "      <td>Aachi Mess</td>\n",
       "      <td>200</td>\n",
       "      <td>South Indian</td>\n",
       "      <td>Coimbatore</td>\n",
       "      <td>Gandhipuram</td>\n",
       "      <td>https://www.zomato.com/coimbatore/aachi-mess-g...</td>\n",
       "      <td>28</td>\n",
       "      <td>Quick Bites</td>\n",
       "      <td>10am to 9pm(Mon-Sat),Closed(Sun)</td>\n",
       "      <td>Good</td>\n",
       "      <td>3.6</td>\n",
       "      <td>17</td>\n",
       "    </tr>\n",
       "    <tr>\n",
       "      <th>3</th>\n",
       "      <td>Ridhi Sidhi</td>\n",
       "      <td>150</td>\n",
       "      <td>Beverages</td>\n",
       "      <td>Coimbatore</td>\n",
       "      <td>RS Puram</td>\n",
       "      <td>https://www.zomato.com/coimbatore/ridhi-sidhi-...</td>\n",
       "      <td>28</td>\n",
       "      <td>Beverage Shop</td>\n",
       "      <td>10am to 10pm(Mon-Sun)</td>\n",
       "      <td>Average</td>\n",
       "      <td>3.1</td>\n",
       "      <td>12</td>\n",
       "    </tr>\n",
       "    <tr>\n",
       "      <th>4</th>\n",
       "      <td>Intervals</td>\n",
       "      <td>300</td>\n",
       "      <td>Fast Food,Burger,Sandwich</td>\n",
       "      <td>Coimbatore</td>\n",
       "      <td>Fun Republic Mall-- Avinashi Road</td>\n",
       "      <td>https://www.zomato.com/coimbatore/intervals-pe...</td>\n",
       "      <td>28</td>\n",
       "      <td>Food Court</td>\n",
       "      <td>10am to 1030pm(Mon-Sun)</td>\n",
       "      <td>Average</td>\n",
       "      <td>3.2</td>\n",
       "      <td>8</td>\n",
       "    </tr>\n",
       "    <tr>\n",
       "      <th>...</th>\n",
       "      <td>...</td>\n",
       "      <td>...</td>\n",
       "      <td>...</td>\n",
       "      <td>...</td>\n",
       "      <td>...</td>\n",
       "      <td>...</td>\n",
       "      <td>...</td>\n",
       "      <td>...</td>\n",
       "      <td>...</td>\n",
       "      <td>...</td>\n",
       "      <td>...</td>\n",
       "      <td>...</td>\n",
       "    </tr>\n",
       "    <tr>\n",
       "      <th>12803</th>\n",
       "      <td>Marine Drive's Chocolatier</td>\n",
       "      <td>500</td>\n",
       "      <td>Desserts,Bakery</td>\n",
       "      <td>Kochi</td>\n",
       "      <td>Edappally</td>\n",
       "      <td>https://www.zomato.com/kochi/marine-drives-cho...</td>\n",
       "      <td>44</td>\n",
       "      <td>Quick Bites</td>\n",
       "      <td>11am to 11pm(Mon-Sun)</td>\n",
       "      <td>Not rated</td>\n",
       "      <td>-</td>\n",
       "      <td>-</td>\n",
       "    </tr>\n",
       "    <tr>\n",
       "      <th>12804</th>\n",
       "      <td>Cafe Kiwano</td>\n",
       "      <td>250</td>\n",
       "      <td>Burger,Fast Food,Beverages,Coffee,Tea</td>\n",
       "      <td>Kochi</td>\n",
       "      <td>Kakkanad</td>\n",
       "      <td>https://www.zomato.com/kochi/cafe-kiwano-kakka...</td>\n",
       "      <td>44</td>\n",
       "      <td>Café</td>\n",
       "      <td>10am to 8pm(Mon-Sun)</td>\n",
       "      <td>Average</td>\n",
       "      <td>3.1</td>\n",
       "      <td>4</td>\n",
       "    </tr>\n",
       "    <tr>\n",
       "      <th>12805</th>\n",
       "      <td>Kichoos Restaurant</td>\n",
       "      <td>250</td>\n",
       "      <td>South Indian</td>\n",
       "      <td>Kochi</td>\n",
       "      <td>Kaloor</td>\n",
       "      <td>https://www.zomato.com/kochi/kichoos-restauran...</td>\n",
       "      <td>44</td>\n",
       "      <td>Quick Bites</td>\n",
       "      <td>10am to 11pm(Mon-Sun)</td>\n",
       "      <td>Average</td>\n",
       "      <td>3.0</td>\n",
       "      <td>7</td>\n",
       "    </tr>\n",
       "    <tr>\n",
       "      <th>12806</th>\n",
       "      <td>Banaras Restaurant</td>\n",
       "      <td>300</td>\n",
       "      <td>Kerala,Chinese,North Indian</td>\n",
       "      <td>Kochi</td>\n",
       "      <td>Pallimukku</td>\n",
       "      <td>https://www.zomato.com/kochi/banaras-restauran...</td>\n",
       "      <td>44</td>\n",
       "      <td>Casual Dining</td>\n",
       "      <td>730am to 10pm(Mon-Sun)</td>\n",
       "      <td>Average</td>\n",
       "      <td>3.2</td>\n",
       "      <td>4</td>\n",
       "    </tr>\n",
       "    <tr>\n",
       "      <th>12807</th>\n",
       "      <td>Nandanam Pure Vegeterian Restaurant</td>\n",
       "      <td>250</td>\n",
       "      <td>South Indian</td>\n",
       "      <td>Kochi</td>\n",
       "      <td>Tripunithura</td>\n",
       "      <td>https://www.zomato.com/kochi/nandanam-pure-veg...</td>\n",
       "      <td>44</td>\n",
       "      <td>Quick Bites</td>\n",
       "      <td>8am to 945pm(Mon-Sun)</td>\n",
       "      <td>Not rated</td>\n",
       "      <td>-</td>\n",
       "      <td>-</td>\n",
       "    </tr>\n",
       "  </tbody>\n",
       "</table>\n",
       "<p>12808 rows × 12 columns</p>\n",
       "</div>"
      ],
      "text/plain": [
       "                                      NAME  PRICE  \\\n",
       "0                            Merrie Berrie    450   \n",
       "1                       Famous Jigarthanda    250   \n",
       "2                               Aachi Mess    200   \n",
       "3                              Ridhi Sidhi    150   \n",
       "4                                Intervals    300   \n",
       "...                                    ...    ...   \n",
       "12803           Marine Drive's Chocolatier    500   \n",
       "12804                          Cafe Kiwano    250   \n",
       "12805                   Kichoos Restaurant    250   \n",
       "12806                   Banaras Restaurant    300   \n",
       "12807  Nandanam Pure Vegeterian Restaurant    250   \n",
       "\n",
       "                             CUSINE_CATEGORY        CITY  \\\n",
       "0                           Bakery,Fast Food  Coimbatore   \n",
       "1                               South Indian  Coimbatore   \n",
       "2                               South Indian  Coimbatore   \n",
       "3                                  Beverages  Coimbatore   \n",
       "4                  Fast Food,Burger,Sandwich  Coimbatore   \n",
       "...                                      ...         ...   \n",
       "12803                        Desserts,Bakery       Kochi   \n",
       "12804  Burger,Fast Food,Beverages,Coffee,Tea       Kochi   \n",
       "12805                           South Indian       Kochi   \n",
       "12806            Kerala,Chinese,North Indian       Kochi   \n",
       "12807                           South Indian       Kochi   \n",
       "\n",
       "                                  REGION  \\\n",
       "0                              Peelamedu   \n",
       "1                         Ramanathapuram   \n",
       "2                            Gandhipuram   \n",
       "3                               RS Puram   \n",
       "4      Fun Republic Mall-- Avinashi Road   \n",
       "...                                  ...   \n",
       "12803                          Edappally   \n",
       "12804                           Kakkanad   \n",
       "12805                             Kaloor   \n",
       "12806                         Pallimukku   \n",
       "12807                       Tripunithura   \n",
       "\n",
       "                                                     URL  PAGE NO  \\\n",
       "0      https://www.zomato.com/coimbatore/merrie-berri...       28   \n",
       "1      https://www.zomato.com/coimbatore/famous-jigar...       28   \n",
       "2      https://www.zomato.com/coimbatore/aachi-mess-g...       28   \n",
       "3      https://www.zomato.com/coimbatore/ridhi-sidhi-...       28   \n",
       "4      https://www.zomato.com/coimbatore/intervals-pe...       28   \n",
       "...                                                  ...      ...   \n",
       "12803  https://www.zomato.com/kochi/marine-drives-cho...       44   \n",
       "12804  https://www.zomato.com/kochi/cafe-kiwano-kakka...       44   \n",
       "12805  https://www.zomato.com/kochi/kichoos-restauran...       44   \n",
       "12806  https://www.zomato.com/kochi/banaras-restauran...       44   \n",
       "12807  https://www.zomato.com/kochi/nandanam-pure-veg...       44   \n",
       "\n",
       "         CUSINE TYPE                            TIMING RATING_TYPE RATING  \\\n",
       "0             Bakery               9am to 9pm(Mon-Sun)     Average    3.3   \n",
       "1        Quick Bites             10am to 10pm(Mon-Sun)     Average    3.3   \n",
       "2        Quick Bites  10am to 9pm(Mon-Sat),Closed(Sun)        Good    3.6   \n",
       "3      Beverage Shop             10am to 10pm(Mon-Sun)     Average    3.1   \n",
       "4         Food Court           10am to 1030pm(Mon-Sun)     Average    3.2   \n",
       "...              ...                               ...         ...    ...   \n",
       "12803    Quick Bites             11am to 11pm(Mon-Sun)   Not rated      -   \n",
       "12804           Café              10am to 8pm(Mon-Sun)     Average    3.1   \n",
       "12805    Quick Bites             10am to 11pm(Mon-Sun)     Average    3.0   \n",
       "12806  Casual Dining            730am to 10pm(Mon-Sun)     Average    3.2   \n",
       "12807    Quick Bites             8am to 945pm(Mon-Sun)   Not rated      -   \n",
       "\n",
       "      VOTES  \n",
       "0         7  \n",
       "1         4  \n",
       "2        17  \n",
       "3        12  \n",
       "4         8  \n",
       "...     ...  \n",
       "12803     -  \n",
       "12804     4  \n",
       "12805     7  \n",
       "12806     4  \n",
       "12807     -  \n",
       "\n",
       "[12808 rows x 12 columns]"
      ]
     },
     "execution_count": 5,
     "metadata": {},
     "output_type": "execute_result"
    }
   ],
   "source": [
    "data"
   ]
  },
  {
   "cell_type": "code",
   "execution_count": 6,
   "metadata": {},
   "outputs": [
    {
     "name": "stdout",
     "output_type": "stream",
     "text": [
      "<class 'pandas.core.frame.DataFrame'>\n",
      "RangeIndex: 12808 entries, 0 to 12807\n",
      "Data columns (total 12 columns):\n",
      " #   Column           Non-Null Count  Dtype \n",
      "---  ------           --------------  ----- \n",
      " 0   NAME             12808 non-null  object\n",
      " 1   PRICE            12808 non-null  int64 \n",
      " 2   CUSINE_CATEGORY  12808 non-null  object\n",
      " 3   CITY             12808 non-null  object\n",
      " 4   REGION           12808 non-null  object\n",
      " 5   URL              12808 non-null  object\n",
      " 6   PAGE NO          12808 non-null  int64 \n",
      " 7   CUSINE TYPE      12808 non-null  object\n",
      " 8   TIMING           12721 non-null  object\n",
      " 9   RATING_TYPE      12808 non-null  object\n",
      " 10  RATING           12808 non-null  object\n",
      " 11  VOTES            12808 non-null  object\n",
      "dtypes: int64(2), object(10)\n",
      "memory usage: 1.2+ MB\n"
     ]
    }
   ],
   "source": [
    "data.info()"
   ]
  },
  {
   "cell_type": "code",
   "execution_count": 7,
   "metadata": {},
   "outputs": [
    {
     "data": {
      "text/plain": [
       "Index(['NAME', 'PRICE', 'CUSINE_CATEGORY', 'CITY', 'REGION', 'URL', 'PAGE NO',\n",
       "       'CUSINE TYPE', 'TIMING', 'RATING_TYPE', 'RATING', 'VOTES'],\n",
       "      dtype='object')"
      ]
     },
     "execution_count": 7,
     "metadata": {},
     "output_type": "execute_result"
    }
   ],
   "source": [
    "data.columns"
   ]
  },
  {
   "cell_type": "code",
   "execution_count": 8,
   "metadata": {},
   "outputs": [
    {
     "data": {
      "text/plain": [
       "(12808, 12)"
      ]
     },
     "execution_count": 8,
     "metadata": {},
     "output_type": "execute_result"
    }
   ],
   "source": [
    "data.shape"
   ]
  },
  {
   "cell_type": "code",
   "execution_count": 9,
   "metadata": {},
   "outputs": [
    {
     "data": {
      "text/html": [
       "<div>\n",
       "<style scoped>\n",
       "    .dataframe tbody tr th:only-of-type {\n",
       "        vertical-align: middle;\n",
       "    }\n",
       "\n",
       "    .dataframe tbody tr th {\n",
       "        vertical-align: top;\n",
       "    }\n",
       "\n",
       "    .dataframe thead th {\n",
       "        text-align: right;\n",
       "    }\n",
       "</style>\n",
       "<table border=\"1\" class=\"dataframe\">\n",
       "  <thead>\n",
       "    <tr style=\"text-align: right;\">\n",
       "      <th></th>\n",
       "      <th>PRICE</th>\n",
       "      <th>PAGE NO</th>\n",
       "    </tr>\n",
       "  </thead>\n",
       "  <tbody>\n",
       "    <tr>\n",
       "      <th>count</th>\n",
       "      <td>12808.000000</td>\n",
       "      <td>12808.000000</td>\n",
       "    </tr>\n",
       "    <tr>\n",
       "      <th>mean</th>\n",
       "      <td>379.346268</td>\n",
       "      <td>131.278186</td>\n",
       "    </tr>\n",
       "    <tr>\n",
       "      <th>std</th>\n",
       "      <td>247.774801</td>\n",
       "      <td>98.025855</td>\n",
       "    </tr>\n",
       "    <tr>\n",
       "      <th>min</th>\n",
       "      <td>0.000000</td>\n",
       "      <td>1.000000</td>\n",
       "    </tr>\n",
       "    <tr>\n",
       "      <th>25%</th>\n",
       "      <td>250.000000</td>\n",
       "      <td>44.000000</td>\n",
       "    </tr>\n",
       "    <tr>\n",
       "      <th>50%</th>\n",
       "      <td>300.000000</td>\n",
       "      <td>110.000000</td>\n",
       "    </tr>\n",
       "    <tr>\n",
       "      <th>75%</th>\n",
       "      <td>450.000000</td>\n",
       "      <td>217.000000</td>\n",
       "    </tr>\n",
       "    <tr>\n",
       "      <th>max</th>\n",
       "      <td>3000.000000</td>\n",
       "      <td>323.000000</td>\n",
       "    </tr>\n",
       "  </tbody>\n",
       "</table>\n",
       "</div>"
      ],
      "text/plain": [
       "              PRICE       PAGE NO\n",
       "count  12808.000000  12808.000000\n",
       "mean     379.346268    131.278186\n",
       "std      247.774801     98.025855\n",
       "min        0.000000      1.000000\n",
       "25%      250.000000     44.000000\n",
       "50%      300.000000    110.000000\n",
       "75%      450.000000    217.000000\n",
       "max     3000.000000    323.000000"
      ]
     },
     "execution_count": 9,
     "metadata": {},
     "output_type": "execute_result"
    }
   ],
   "source": [
    "data.describe()"
   ]
  },
  {
   "cell_type": "code",
   "execution_count": 10,
   "metadata": {},
   "outputs": [
    {
     "data": {
      "text/plain": [
       "NAME                0\n",
       "PRICE               0\n",
       "CUSINE_CATEGORY     0\n",
       "CITY                0\n",
       "REGION              0\n",
       "URL                 0\n",
       "PAGE NO             0\n",
       "CUSINE TYPE         0\n",
       "TIMING             87\n",
       "RATING_TYPE         0\n",
       "RATING              0\n",
       "VOTES               0\n",
       "dtype: int64"
      ]
     },
     "execution_count": 10,
     "metadata": {},
     "output_type": "execute_result"
    }
   ],
   "source": [
    "data.isna().sum()"
   ]
  },
  {
   "cell_type": "code",
   "execution_count": 11,
   "metadata": {},
   "outputs": [],
   "source": [
    "data.drop(columns=[\"CUSINE_CATEGORY\",\"URL\",\"PAGE NO\",\"TIMING\"], inplace  =True)\n",
    "\n"
   ]
  },
  {
   "cell_type": "code",
   "execution_count": 12,
   "metadata": {},
   "outputs": [
    {
     "data": {
      "text/html": [
       "<div>\n",
       "<style scoped>\n",
       "    .dataframe tbody tr th:only-of-type {\n",
       "        vertical-align: middle;\n",
       "    }\n",
       "\n",
       "    .dataframe tbody tr th {\n",
       "        vertical-align: top;\n",
       "    }\n",
       "\n",
       "    .dataframe thead th {\n",
       "        text-align: right;\n",
       "    }\n",
       "</style>\n",
       "<table border=\"1\" class=\"dataframe\">\n",
       "  <thead>\n",
       "    <tr style=\"text-align: right;\">\n",
       "      <th></th>\n",
       "      <th>NAME</th>\n",
       "      <th>PRICE</th>\n",
       "      <th>CITY</th>\n",
       "      <th>REGION</th>\n",
       "      <th>CUSINE TYPE</th>\n",
       "      <th>RATING_TYPE</th>\n",
       "      <th>RATING</th>\n",
       "      <th>VOTES</th>\n",
       "    </tr>\n",
       "  </thead>\n",
       "  <tbody>\n",
       "    <tr>\n",
       "      <th>0</th>\n",
       "      <td>Merrie Berrie</td>\n",
       "      <td>450</td>\n",
       "      <td>Coimbatore</td>\n",
       "      <td>Peelamedu</td>\n",
       "      <td>Bakery</td>\n",
       "      <td>Average</td>\n",
       "      <td>3.3</td>\n",
       "      <td>7</td>\n",
       "    </tr>\n",
       "    <tr>\n",
       "      <th>1</th>\n",
       "      <td>Famous Jigarthanda</td>\n",
       "      <td>250</td>\n",
       "      <td>Coimbatore</td>\n",
       "      <td>Ramanathapuram</td>\n",
       "      <td>Quick Bites</td>\n",
       "      <td>Average</td>\n",
       "      <td>3.3</td>\n",
       "      <td>4</td>\n",
       "    </tr>\n",
       "    <tr>\n",
       "      <th>2</th>\n",
       "      <td>Aachi Mess</td>\n",
       "      <td>200</td>\n",
       "      <td>Coimbatore</td>\n",
       "      <td>Gandhipuram</td>\n",
       "      <td>Quick Bites</td>\n",
       "      <td>Good</td>\n",
       "      <td>3.6</td>\n",
       "      <td>17</td>\n",
       "    </tr>\n",
       "    <tr>\n",
       "      <th>3</th>\n",
       "      <td>Ridhi Sidhi</td>\n",
       "      <td>150</td>\n",
       "      <td>Coimbatore</td>\n",
       "      <td>RS Puram</td>\n",
       "      <td>Beverage Shop</td>\n",
       "      <td>Average</td>\n",
       "      <td>3.1</td>\n",
       "      <td>12</td>\n",
       "    </tr>\n",
       "    <tr>\n",
       "      <th>4</th>\n",
       "      <td>Intervals</td>\n",
       "      <td>300</td>\n",
       "      <td>Coimbatore</td>\n",
       "      <td>Fun Republic Mall-- Avinashi Road</td>\n",
       "      <td>Food Court</td>\n",
       "      <td>Average</td>\n",
       "      <td>3.2</td>\n",
       "      <td>8</td>\n",
       "    </tr>\n",
       "    <tr>\n",
       "      <th>...</th>\n",
       "      <td>...</td>\n",
       "      <td>...</td>\n",
       "      <td>...</td>\n",
       "      <td>...</td>\n",
       "      <td>...</td>\n",
       "      <td>...</td>\n",
       "      <td>...</td>\n",
       "      <td>...</td>\n",
       "    </tr>\n",
       "    <tr>\n",
       "      <th>12803</th>\n",
       "      <td>Marine Drive's Chocolatier</td>\n",
       "      <td>500</td>\n",
       "      <td>Kochi</td>\n",
       "      <td>Edappally</td>\n",
       "      <td>Quick Bites</td>\n",
       "      <td>Not rated</td>\n",
       "      <td>-</td>\n",
       "      <td>-</td>\n",
       "    </tr>\n",
       "    <tr>\n",
       "      <th>12804</th>\n",
       "      <td>Cafe Kiwano</td>\n",
       "      <td>250</td>\n",
       "      <td>Kochi</td>\n",
       "      <td>Kakkanad</td>\n",
       "      <td>Café</td>\n",
       "      <td>Average</td>\n",
       "      <td>3.1</td>\n",
       "      <td>4</td>\n",
       "    </tr>\n",
       "    <tr>\n",
       "      <th>12805</th>\n",
       "      <td>Kichoos Restaurant</td>\n",
       "      <td>250</td>\n",
       "      <td>Kochi</td>\n",
       "      <td>Kaloor</td>\n",
       "      <td>Quick Bites</td>\n",
       "      <td>Average</td>\n",
       "      <td>3.0</td>\n",
       "      <td>7</td>\n",
       "    </tr>\n",
       "    <tr>\n",
       "      <th>12806</th>\n",
       "      <td>Banaras Restaurant</td>\n",
       "      <td>300</td>\n",
       "      <td>Kochi</td>\n",
       "      <td>Pallimukku</td>\n",
       "      <td>Casual Dining</td>\n",
       "      <td>Average</td>\n",
       "      <td>3.2</td>\n",
       "      <td>4</td>\n",
       "    </tr>\n",
       "    <tr>\n",
       "      <th>12807</th>\n",
       "      <td>Nandanam Pure Vegeterian Restaurant</td>\n",
       "      <td>250</td>\n",
       "      <td>Kochi</td>\n",
       "      <td>Tripunithura</td>\n",
       "      <td>Quick Bites</td>\n",
       "      <td>Not rated</td>\n",
       "      <td>-</td>\n",
       "      <td>-</td>\n",
       "    </tr>\n",
       "  </tbody>\n",
       "</table>\n",
       "<p>12808 rows × 8 columns</p>\n",
       "</div>"
      ],
      "text/plain": [
       "                                      NAME  PRICE        CITY  \\\n",
       "0                            Merrie Berrie    450  Coimbatore   \n",
       "1                       Famous Jigarthanda    250  Coimbatore   \n",
       "2                               Aachi Mess    200  Coimbatore   \n",
       "3                              Ridhi Sidhi    150  Coimbatore   \n",
       "4                                Intervals    300  Coimbatore   \n",
       "...                                    ...    ...         ...   \n",
       "12803           Marine Drive's Chocolatier    500       Kochi   \n",
       "12804                          Cafe Kiwano    250       Kochi   \n",
       "12805                   Kichoos Restaurant    250       Kochi   \n",
       "12806                   Banaras Restaurant    300       Kochi   \n",
       "12807  Nandanam Pure Vegeterian Restaurant    250       Kochi   \n",
       "\n",
       "                                  REGION    CUSINE TYPE RATING_TYPE RATING  \\\n",
       "0                              Peelamedu         Bakery     Average    3.3   \n",
       "1                         Ramanathapuram    Quick Bites     Average    3.3   \n",
       "2                            Gandhipuram    Quick Bites        Good    3.6   \n",
       "3                               RS Puram  Beverage Shop     Average    3.1   \n",
       "4      Fun Republic Mall-- Avinashi Road     Food Court     Average    3.2   \n",
       "...                                  ...            ...         ...    ...   \n",
       "12803                          Edappally    Quick Bites   Not rated      -   \n",
       "12804                           Kakkanad           Café     Average    3.1   \n",
       "12805                             Kaloor    Quick Bites     Average    3.0   \n",
       "12806                         Pallimukku  Casual Dining     Average    3.2   \n",
       "12807                       Tripunithura    Quick Bites   Not rated      -   \n",
       "\n",
       "      VOTES  \n",
       "0         7  \n",
       "1         4  \n",
       "2        17  \n",
       "3        12  \n",
       "4         8  \n",
       "...     ...  \n",
       "12803     -  \n",
       "12804     4  \n",
       "12805     7  \n",
       "12806     4  \n",
       "12807     -  \n",
       "\n",
       "[12808 rows x 8 columns]"
      ]
     },
     "execution_count": 12,
     "metadata": {},
     "output_type": "execute_result"
    }
   ],
   "source": [
    "data"
   ]
  },
  {
   "cell_type": "code",
   "execution_count": null,
   "metadata": {},
   "outputs": [],
   "source": []
  },
  {
   "cell_type": "markdown",
   "metadata": {},
   "source": [
    "# Data cleaning"
   ]
  },
  {
   "cell_type": "code",
   "execution_count": null,
   "metadata": {},
   "outputs": [],
   "source": []
  },
  {
   "cell_type": "code",
   "execution_count": 13,
   "metadata": {},
   "outputs": [],
   "source": [
    "data.rename(columns={'CUSINE TYPE': 'CUSINE'}, inplace=True)"
   ]
  },
  {
   "cell_type": "code",
   "execution_count": null,
   "metadata": {},
   "outputs": [],
   "source": []
  },
  {
   "cell_type": "code",
   "execution_count": 14,
   "metadata": {},
   "outputs": [
    {
     "data": {
      "text/html": [
       "<div>\n",
       "<style scoped>\n",
       "    .dataframe tbody tr th:only-of-type {\n",
       "        vertical-align: middle;\n",
       "    }\n",
       "\n",
       "    .dataframe tbody tr th {\n",
       "        vertical-align: top;\n",
       "    }\n",
       "\n",
       "    .dataframe thead th {\n",
       "        text-align: right;\n",
       "    }\n",
       "</style>\n",
       "<table border=\"1\" class=\"dataframe\">\n",
       "  <thead>\n",
       "    <tr style=\"text-align: right;\">\n",
       "      <th></th>\n",
       "      <th>NAME</th>\n",
       "      <th>PRICE</th>\n",
       "      <th>CITY</th>\n",
       "      <th>REGION</th>\n",
       "      <th>CUSINE</th>\n",
       "      <th>RATING_TYPE</th>\n",
       "      <th>RATING</th>\n",
       "      <th>VOTES</th>\n",
       "    </tr>\n",
       "  </thead>\n",
       "  <tbody>\n",
       "    <tr>\n",
       "      <th>0</th>\n",
       "      <td>Merrie Berrie</td>\n",
       "      <td>450</td>\n",
       "      <td>Coimbatore</td>\n",
       "      <td>Peelamedu</td>\n",
       "      <td>Bakery</td>\n",
       "      <td>Average</td>\n",
       "      <td>3.3</td>\n",
       "      <td>7</td>\n",
       "    </tr>\n",
       "    <tr>\n",
       "      <th>1</th>\n",
       "      <td>Famous Jigarthanda</td>\n",
       "      <td>250</td>\n",
       "      <td>Coimbatore</td>\n",
       "      <td>Ramanathapuram</td>\n",
       "      <td>Quick Bites</td>\n",
       "      <td>Average</td>\n",
       "      <td>3.3</td>\n",
       "      <td>4</td>\n",
       "    </tr>\n",
       "    <tr>\n",
       "      <th>2</th>\n",
       "      <td>Aachi Mess</td>\n",
       "      <td>200</td>\n",
       "      <td>Coimbatore</td>\n",
       "      <td>Gandhipuram</td>\n",
       "      <td>Quick Bites</td>\n",
       "      <td>Good</td>\n",
       "      <td>3.6</td>\n",
       "      <td>17</td>\n",
       "    </tr>\n",
       "    <tr>\n",
       "      <th>3</th>\n",
       "      <td>Ridhi Sidhi</td>\n",
       "      <td>150</td>\n",
       "      <td>Coimbatore</td>\n",
       "      <td>RS Puram</td>\n",
       "      <td>Beverage Shop</td>\n",
       "      <td>Average</td>\n",
       "      <td>3.1</td>\n",
       "      <td>12</td>\n",
       "    </tr>\n",
       "    <tr>\n",
       "      <th>4</th>\n",
       "      <td>Intervals</td>\n",
       "      <td>300</td>\n",
       "      <td>Coimbatore</td>\n",
       "      <td>Fun Republic Mall-- Avinashi Road</td>\n",
       "      <td>Food Court</td>\n",
       "      <td>Average</td>\n",
       "      <td>3.2</td>\n",
       "      <td>8</td>\n",
       "    </tr>\n",
       "    <tr>\n",
       "      <th>...</th>\n",
       "      <td>...</td>\n",
       "      <td>...</td>\n",
       "      <td>...</td>\n",
       "      <td>...</td>\n",
       "      <td>...</td>\n",
       "      <td>...</td>\n",
       "      <td>...</td>\n",
       "      <td>...</td>\n",
       "    </tr>\n",
       "    <tr>\n",
       "      <th>12803</th>\n",
       "      <td>Marine Drive's Chocolatier</td>\n",
       "      <td>500</td>\n",
       "      <td>Kochi</td>\n",
       "      <td>Edappally</td>\n",
       "      <td>Quick Bites</td>\n",
       "      <td>Not rated</td>\n",
       "      <td>-</td>\n",
       "      <td>-</td>\n",
       "    </tr>\n",
       "    <tr>\n",
       "      <th>12804</th>\n",
       "      <td>Cafe Kiwano</td>\n",
       "      <td>250</td>\n",
       "      <td>Kochi</td>\n",
       "      <td>Kakkanad</td>\n",
       "      <td>Café</td>\n",
       "      <td>Average</td>\n",
       "      <td>3.1</td>\n",
       "      <td>4</td>\n",
       "    </tr>\n",
       "    <tr>\n",
       "      <th>12805</th>\n",
       "      <td>Kichoos Restaurant</td>\n",
       "      <td>250</td>\n",
       "      <td>Kochi</td>\n",
       "      <td>Kaloor</td>\n",
       "      <td>Quick Bites</td>\n",
       "      <td>Average</td>\n",
       "      <td>3.0</td>\n",
       "      <td>7</td>\n",
       "    </tr>\n",
       "    <tr>\n",
       "      <th>12806</th>\n",
       "      <td>Banaras Restaurant</td>\n",
       "      <td>300</td>\n",
       "      <td>Kochi</td>\n",
       "      <td>Pallimukku</td>\n",
       "      <td>Casual Dining</td>\n",
       "      <td>Average</td>\n",
       "      <td>3.2</td>\n",
       "      <td>4</td>\n",
       "    </tr>\n",
       "    <tr>\n",
       "      <th>12807</th>\n",
       "      <td>Nandanam Pure Vegeterian Restaurant</td>\n",
       "      <td>250</td>\n",
       "      <td>Kochi</td>\n",
       "      <td>Tripunithura</td>\n",
       "      <td>Quick Bites</td>\n",
       "      <td>Not rated</td>\n",
       "      <td>-</td>\n",
       "      <td>-</td>\n",
       "    </tr>\n",
       "  </tbody>\n",
       "</table>\n",
       "<p>12808 rows × 8 columns</p>\n",
       "</div>"
      ],
      "text/plain": [
       "                                      NAME  PRICE        CITY  \\\n",
       "0                            Merrie Berrie    450  Coimbatore   \n",
       "1                       Famous Jigarthanda    250  Coimbatore   \n",
       "2                               Aachi Mess    200  Coimbatore   \n",
       "3                              Ridhi Sidhi    150  Coimbatore   \n",
       "4                                Intervals    300  Coimbatore   \n",
       "...                                    ...    ...         ...   \n",
       "12803           Marine Drive's Chocolatier    500       Kochi   \n",
       "12804                          Cafe Kiwano    250       Kochi   \n",
       "12805                   Kichoos Restaurant    250       Kochi   \n",
       "12806                   Banaras Restaurant    300       Kochi   \n",
       "12807  Nandanam Pure Vegeterian Restaurant    250       Kochi   \n",
       "\n",
       "                                  REGION         CUSINE RATING_TYPE RATING  \\\n",
       "0                              Peelamedu         Bakery     Average    3.3   \n",
       "1                         Ramanathapuram    Quick Bites     Average    3.3   \n",
       "2                            Gandhipuram    Quick Bites        Good    3.6   \n",
       "3                               RS Puram  Beverage Shop     Average    3.1   \n",
       "4      Fun Republic Mall-- Avinashi Road     Food Court     Average    3.2   \n",
       "...                                  ...            ...         ...    ...   \n",
       "12803                          Edappally    Quick Bites   Not rated      -   \n",
       "12804                           Kakkanad           Café     Average    3.1   \n",
       "12805                             Kaloor    Quick Bites     Average    3.0   \n",
       "12806                         Pallimukku  Casual Dining     Average    3.2   \n",
       "12807                       Tripunithura    Quick Bites   Not rated      -   \n",
       "\n",
       "      VOTES  \n",
       "0         7  \n",
       "1         4  \n",
       "2        17  \n",
       "3        12  \n",
       "4         8  \n",
       "...     ...  \n",
       "12803     -  \n",
       "12804     4  \n",
       "12805     7  \n",
       "12806     4  \n",
       "12807     -  \n",
       "\n",
       "[12808 rows x 8 columns]"
      ]
     },
     "execution_count": 14,
     "metadata": {},
     "output_type": "execute_result"
    }
   ],
   "source": [
    "\n",
    "data"
   ]
  },
  {
   "cell_type": "code",
   "execution_count": 15,
   "metadata": {},
   "outputs": [
    {
     "data": {
      "text/plain": [
       "Chennai       9690\n",
       "Kochi         2062\n",
       "Coimbatore    1056\n",
       "Name: CITY, dtype: int64"
      ]
     },
     "execution_count": 15,
     "metadata": {},
     "output_type": "execute_result"
    }
   ],
   "source": [
    "data.CITY.value_counts()\n"
   ]
  },
  {
   "cell_type": "code",
   "execution_count": 16,
   "metadata": {},
   "outputs": [],
   "source": [
    "data['RATING'] = data['RATING'].replace('Opening',np.NaN)\n",
    "data['RATING'] = data['RATING'].replace('-',np.NaN)\n",
    "data.dropna(how = 'any', inplace = True)\n"
   ]
  },
  {
   "cell_type": "code",
   "execution_count": 17,
   "metadata": {},
   "outputs": [],
   "source": [
    "data['RATING'] = data['RATING'].replace('NEW',np.NaN)\n",
    "data['RATING'] = data['RATING'].replace('-',np.NaN)\n",
    "data.dropna(how = 'any', inplace = True)"
   ]
  },
  {
   "cell_type": "code",
   "execution_count": 18,
   "metadata": {},
   "outputs": [],
   "source": [
    "data['VOTES'] = data['VOTES'].replace('NEW',np.NaN)\n",
    "data['VOTES'] = data['VOTES'].replace('-',np.NaN)\n",
    "data.dropna(how = 'any', inplace = True)"
   ]
  },
  {
   "cell_type": "code",
   "execution_count": 19,
   "metadata": {},
   "outputs": [],
   "source": [
    "data.duplicated().sum()\n",
    "data.drop_duplicates(inplace=True)"
   ]
  },
  {
   "cell_type": "code",
   "execution_count": 20,
   "metadata": {},
   "outputs": [
    {
     "name": "stdout",
     "output_type": "stream",
     "text": [
      "<class 'pandas.core.frame.DataFrame'>\n",
      "Int64Index: 5000 entries, 0 to 6930\n",
      "Data columns (total 8 columns):\n",
      " #   Column       Non-Null Count  Dtype \n",
      "---  ------       --------------  ----- \n",
      " 0   NAME         5000 non-null   object\n",
      " 1   PRICE        5000 non-null   int64 \n",
      " 2   CITY         5000 non-null   object\n",
      " 3   REGION       5000 non-null   object\n",
      " 4   CUSINE       5000 non-null   object\n",
      " 5   RATING_TYPE  5000 non-null   object\n",
      " 6   RATING       5000 non-null   object\n",
      " 7   VOTES        5000 non-null   object\n",
      "dtypes: int64(1), object(7)\n",
      "memory usage: 351.6+ KB\n"
     ]
    }
   ],
   "source": [
    "data.isnull().sum()\n",
    "data.dropna(how='any',inplace=True)\n",
    "data.info()\n",
    "\n"
   ]
  },
  {
   "cell_type": "markdown",
   "metadata": {},
   "source": [
    "# Data visualisation\n"
   ]
  },
  {
   "cell_type": "code",
   "execution_count": 21,
   "metadata": {},
   "outputs": [
    {
     "data": {
      "text/plain": [
       "<matplotlib.axes._subplots.AxesSubplot at 0x7f369ecf44f0>"
      ]
     },
     "execution_count": 21,
     "metadata": {},
     "output_type": "execute_result"
    },
    {
     "data": {
      "image/png": "[encoded data removed]",
      "text/plain": [
       "<Figure size 432x288 with 1 Axes>"
      ]
     },
     "metadata": {
      "needs_background": "light"
     },
     "output_type": "display_data"
    }
   ],
   "source": [
    "sns.barplot(x='CITY',y='PRICE',data=data)"
   ]
  },
  {
   "cell_type": "code",
   "execution_count": 22,
   "metadata": {},
   "outputs": [
    {
     "data": {
      "text/plain": [
       "Text(0.5, 1.0, 'TYPES OF CUSINE AND ITS COUNT')"
      ]
     },
     "execution_count": 22,
     "metadata": {},
     "output_type": "execute_result"
    },
    {
     "data": {
      "image/png": "[encoded data removed]",
      "text/plain": [
       "<Figure size 1440x1440 with 1 Axes>"
      ]
     },
     "metadata": {
      "needs_background": "light"
     },
     "output_type": "display_data"
    }
   ],
   "source": [
    "sns.countplot(data['CUSINE'])\n",
    "fig = plt.gcf()\n",
    "fig.set_size_inches(20,20)\n",
    "plt.title('TYPES OF CUSINE AND ITS COUNT')"
   ]
  },
  {
   "cell_type": "code",
   "execution_count": null,
   "metadata": {},
   "outputs": [],
   "source": [
    "\n"
   ]
  },
  {
   "cell_type": "code",
   "execution_count": 23,
   "metadata": {},
   "outputs": [
    {
     "data": {
      "image/png": "[encoded data removed]",
      "text/plain": [
       "<Figure size 432x288 with 1 Axes>"
      ]
     },
     "metadata": {
      "needs_background": "light"
     },
     "output_type": "display_data"
    }
   ],
   "source": [
    "#Type and Rating\n",
    "type_plt=pd.crosstab(data['RATING'],data['CITY'])\n",
    "type_plt.plot(kind='bar',stacked=True);\n",
    "plt.title('Type - Rating',fontsize=15,fontweight='bold')\n",
    "plt.ylabel('Type',fontsize=10,fontweight='bold')\n",
    "plt.xlabel('Rating',fontsize=10,fontweight='bold')\n",
    "plt.xticks(fontsize=10,fontweight='bold')\n",
    "plt.yticks(fontsize=10,fontweight='bold');"
   ]
  },
  {
   "cell_type": "code",
   "execution_count": null,
   "metadata": {},
   "outputs": [],
   "source": []
  },
  {
   "cell_type": "code",
   "execution_count": 24,
   "metadata": {},
   "outputs": [
    {
     "data": {
      "text/plain": [
       "Text(0.5, 0, 'Number of outlets')"
      ]
     },
     "execution_count": 24,
     "metadata": {},
     "output_type": "execute_result"
    },
    {
     "data": {
      "image/png": "[encoded data removed]",
      "text/plain": [
       "<Figure size 1080x504 with 1 Axes>"
      ]
     },
     "metadata": {
      "needs_background": "light"
     },
     "output_type": "display_data"
    }
   ],
   "source": [
    "plt.figure(figsize=(15,7))\n",
    "chains=data['NAME'].value_counts()[:20]\n",
    "sns.barplot(x=chains,y=chains.index,palette='Set1')\n",
    "plt.title(\"Most famous restaurant chains \",size=20,pad=20)\n",
    "plt.xlabel(\"Number of outlets\",size=15)"
   ]
  },
  {
   "cell_type": "code",
   "execution_count": null,
   "metadata": {},
   "outputs": [],
   "source": []
  },
  {
   "cell_type": "markdown",
   "metadata": {},
   "source": [
    "# Encoding data"
   ]
  },
  {
   "cell_type": "code",
   "execution_count": 25,
   "metadata": {},
   "outputs": [],
   "source": [
    "from sklearn.preprocessing import LabelEncoder\n",
    "T = LabelEncoder()                 \n",
    "data['CITY'] = T.fit_transform(data['CITY'])\n",
    "data['REGION'] = T.fit_transform(data['REGION'])\n",
    "data['CUSINE'] = T.fit_transform(data['CUSINE'])\n",
    "data['RATING_TYPE'] = T.fit_transform(data['RATING_TYPE'])\n",
    "\n",
    "\n"
   ]
  },
  {
   "cell_type": "code",
   "execution_count": null,
   "metadata": {},
   "outputs": [],
   "source": []
  },
  {
   "cell_type": "code",
   "execution_count": 26,
   "metadata": {},
   "outputs": [
    {
     "data": {
      "text/html": [
       "<div>\n",
       "<style scoped>\n",
       "    .dataframe tbody tr th:only-of-type {\n",
       "        vertical-align: middle;\n",
       "    }\n",
       "\n",
       "    .dataframe tbody tr th {\n",
       "        vertical-align: top;\n",
       "    }\n",
       "\n",
       "    .dataframe thead th {\n",
       "        text-align: right;\n",
       "    }\n",
       "</style>\n",
       "<table border=\"1\" class=\"dataframe\">\n",
       "  <thead>\n",
       "    <tr style=\"text-align: right;\">\n",
       "      <th></th>\n",
       "      <th>NAME</th>\n",
       "      <th>PRICE</th>\n",
       "      <th>CITY</th>\n",
       "      <th>REGION</th>\n",
       "      <th>CUSINE</th>\n",
       "      <th>RATING_TYPE</th>\n",
       "      <th>RATING</th>\n",
       "      <th>VOTES</th>\n",
       "    </tr>\n",
       "  </thead>\n",
       "  <tbody>\n",
       "    <tr>\n",
       "      <th>0</th>\n",
       "      <td>Merrie Berrie</td>\n",
       "      <td>450</td>\n",
       "      <td>1</td>\n",
       "      <td>170</td>\n",
       "      <td>0</td>\n",
       "      <td>0</td>\n",
       "      <td>3.3</td>\n",
       "      <td>7</td>\n",
       "    </tr>\n",
       "    <tr>\n",
       "      <th>1</th>\n",
       "      <td>Famous Jigarthanda</td>\n",
       "      <td>250</td>\n",
       "      <td>1</td>\n",
       "      <td>185</td>\n",
       "      <td>15</td>\n",
       "      <td>0</td>\n",
       "      <td>3.3</td>\n",
       "      <td>4</td>\n",
       "    </tr>\n",
       "    <tr>\n",
       "      <th>2</th>\n",
       "      <td>Aachi Mess</td>\n",
       "      <td>200</td>\n",
       "      <td>1</td>\n",
       "      <td>62</td>\n",
       "      <td>15</td>\n",
       "      <td>3</td>\n",
       "      <td>3.6</td>\n",
       "      <td>17</td>\n",
       "    </tr>\n",
       "    <tr>\n",
       "      <th>3</th>\n",
       "      <td>Ridhi Sidhi</td>\n",
       "      <td>150</td>\n",
       "      <td>1</td>\n",
       "      <td>182</td>\n",
       "      <td>2</td>\n",
       "      <td>0</td>\n",
       "      <td>3.1</td>\n",
       "      <td>12</td>\n",
       "    </tr>\n",
       "    <tr>\n",
       "      <th>4</th>\n",
       "      <td>Intervals</td>\n",
       "      <td>300</td>\n",
       "      <td>1</td>\n",
       "      <td>58</td>\n",
       "      <td>9</td>\n",
       "      <td>0</td>\n",
       "      <td>3.2</td>\n",
       "      <td>8</td>\n",
       "    </tr>\n",
       "  </tbody>\n",
       "</table>\n",
       "</div>"
      ],
      "text/plain": [
       "                 NAME  PRICE  CITY  REGION  CUSINE  RATING_TYPE RATING VOTES\n",
       "0       Merrie Berrie    450     1     170       0            0    3.3     7\n",
       "1  Famous Jigarthanda    250     1     185      15            0    3.3     4\n",
       "2          Aachi Mess    200     1      62      15            3    3.6    17\n",
       "3         Ridhi Sidhi    150     1     182       2            0    3.1    12\n",
       "4           Intervals    300     1      58       9            0    3.2     8"
      ]
     },
     "execution_count": 26,
     "metadata": {},
     "output_type": "execute_result"
    }
   ],
   "source": [
    "data.head()"
   ]
  },
  {
   "cell_type": "code",
   "execution_count": 27,
   "metadata": {},
   "outputs": [],
   "source": [
    "x = data.drop(['RATING','NAME'],axis = 1)\n",
    "\n"
   ]
  },
  {
   "cell_type": "code",
   "execution_count": 28,
   "metadata": {},
   "outputs": [],
   "source": [
    "y = data['RATING']\n",
    "\n"
   ]
  },
  {
   "cell_type": "code",
   "execution_count": 29,
   "metadata": {},
   "outputs": [
    {
     "data": {
      "text/plain": [
       "(5000, 6)"
      ]
     },
     "execution_count": 29,
     "metadata": {},
     "output_type": "execute_result"
    }
   ],
   "source": [
    "x.shape\n",
    "\n"
   ]
  },
  {
   "cell_type": "code",
   "execution_count": 30,
   "metadata": {},
   "outputs": [
    {
     "data": {
      "text/plain": [
       "(5000,)"
      ]
     },
     "execution_count": 30,
     "metadata": {},
     "output_type": "execute_result"
    }
   ],
   "source": [
    "y.shape"
   ]
  },
  {
   "cell_type": "code",
   "execution_count": 31,
   "metadata": {},
   "outputs": [],
   "source": [
    "#test and train dataset\n",
    "\n",
    "from sklearn.model_selection import train_test_split\n",
    "x_train,x_test,y_train,y_test = train_test_split(x,y,test_size = 0.3,random_state = 33)"
   ]
  },
  {
   "cell_type": "code",
   "execution_count": 32,
   "metadata": {},
   "outputs": [
    {
     "name": "stdout",
     "output_type": "stream",
     "text": [
      "<class 'pandas.core.frame.DataFrame'>\n",
      "Int64Index: 5000 entries, 0 to 6930\n",
      "Data columns (total 8 columns):\n",
      " #   Column       Non-Null Count  Dtype \n",
      "---  ------       --------------  ----- \n",
      " 0   NAME         5000 non-null   object\n",
      " 1   PRICE        5000 non-null   int64 \n",
      " 2   CITY         5000 non-null   int64 \n",
      " 3   REGION       5000 non-null   int64 \n",
      " 4   CUSINE       5000 non-null   int64 \n",
      " 5   RATING_TYPE  5000 non-null   int64 \n",
      " 6   RATING       5000 non-null   object\n",
      " 7   VOTES        5000 non-null   object\n",
      "dtypes: int64(5), object(3)\n",
      "memory usage: 511.6+ KB\n"
     ]
    }
   ],
   "source": [
    "data.info()\n"
   ]
  },
  {
   "cell_type": "code",
   "execution_count": 33,
   "metadata": {},
   "outputs": [
    {
     "data": {
      "text/html": [
       "<div>\n",
       "<style scoped>\n",
       "    .dataframe tbody tr th:only-of-type {\n",
       "        vertical-align: middle;\n",
       "    }\n",
       "\n",
       "    .dataframe tbody tr th {\n",
       "        vertical-align: top;\n",
       "    }\n",
       "\n",
       "    .dataframe thead th {\n",
       "        text-align: right;\n",
       "    }\n",
       "</style>\n",
       "<table border=\"1\" class=\"dataframe\">\n",
       "  <thead>\n",
       "    <tr style=\"text-align: right;\">\n",
       "      <th></th>\n",
       "      <th>NAME</th>\n",
       "      <th>PRICE</th>\n",
       "      <th>CITY</th>\n",
       "      <th>REGION</th>\n",
       "      <th>CUSINE</th>\n",
       "      <th>RATING_TYPE</th>\n",
       "      <th>RATING</th>\n",
       "      <th>VOTES</th>\n",
       "    </tr>\n",
       "  </thead>\n",
       "  <tbody>\n",
       "    <tr>\n",
       "      <th>0</th>\n",
       "      <td>Merrie Berrie</td>\n",
       "      <td>450</td>\n",
       "      <td>1</td>\n",
       "      <td>170</td>\n",
       "      <td>0</td>\n",
       "      <td>0</td>\n",
       "      <td>3.3</td>\n",
       "      <td>7</td>\n",
       "    </tr>\n",
       "    <tr>\n",
       "      <th>1</th>\n",
       "      <td>Famous Jigarthanda</td>\n",
       "      <td>250</td>\n",
       "      <td>1</td>\n",
       "      <td>185</td>\n",
       "      <td>15</td>\n",
       "      <td>0</td>\n",
       "      <td>3.3</td>\n",
       "      <td>4</td>\n",
       "    </tr>\n",
       "    <tr>\n",
       "      <th>2</th>\n",
       "      <td>Aachi Mess</td>\n",
       "      <td>200</td>\n",
       "      <td>1</td>\n",
       "      <td>62</td>\n",
       "      <td>15</td>\n",
       "      <td>3</td>\n",
       "      <td>3.6</td>\n",
       "      <td>17</td>\n",
       "    </tr>\n",
       "    <tr>\n",
       "      <th>3</th>\n",
       "      <td>Ridhi Sidhi</td>\n",
       "      <td>150</td>\n",
       "      <td>1</td>\n",
       "      <td>182</td>\n",
       "      <td>2</td>\n",
       "      <td>0</td>\n",
       "      <td>3.1</td>\n",
       "      <td>12</td>\n",
       "    </tr>\n",
       "    <tr>\n",
       "      <th>4</th>\n",
       "      <td>Intervals</td>\n",
       "      <td>300</td>\n",
       "      <td>1</td>\n",
       "      <td>58</td>\n",
       "      <td>9</td>\n",
       "      <td>0</td>\n",
       "      <td>3.2</td>\n",
       "      <td>8</td>\n",
       "    </tr>\n",
       "  </tbody>\n",
       "</table>\n",
       "</div>"
      ],
      "text/plain": [
       "                 NAME  PRICE  CITY  REGION  CUSINE  RATING_TYPE RATING VOTES\n",
       "0       Merrie Berrie    450     1     170       0            0    3.3     7\n",
       "1  Famous Jigarthanda    250     1     185      15            0    3.3     4\n",
       "2          Aachi Mess    200     1      62      15            3    3.6    17\n",
       "3         Ridhi Sidhi    150     1     182       2            0    3.1    12\n",
       "4           Intervals    300     1      58       9            0    3.2     8"
      ]
     },
     "execution_count": 33,
     "metadata": {},
     "output_type": "execute_result"
    }
   ],
   "source": [
    "data.head()"
   ]
  },
  {
   "cell_type": "code",
   "execution_count": null,
   "metadata": {},
   "outputs": [],
   "source": [
    "\n"
   ]
  },
  {
   "cell_type": "code",
   "execution_count": 34,
   "metadata": {},
   "outputs": [
    {
     "data": {
      "text/html": [
       "<div>\n",
       "<style scoped>\n",
       "    .dataframe tbody tr th:only-of-type {\n",
       "        vertical-align: middle;\n",
       "    }\n",
       "\n",
       "    .dataframe tbody tr th {\n",
       "        vertical-align: top;\n",
       "    }\n",
       "\n",
       "    .dataframe thead th {\n",
       "        text-align: right;\n",
       "    }\n",
       "</style>\n",
       "<table border=\"1\" class=\"dataframe\">\n",
       "  <thead>\n",
       "    <tr style=\"text-align: right;\">\n",
       "      <th></th>\n",
       "      <th>NAME</th>\n",
       "      <th>PRICE</th>\n",
       "      <th>CITY</th>\n",
       "      <th>REGION</th>\n",
       "      <th>CUSINE</th>\n",
       "      <th>RATING_TYPE</th>\n",
       "      <th>RATING</th>\n",
       "      <th>VOTES</th>\n",
       "    </tr>\n",
       "  </thead>\n",
       "  <tbody>\n",
       "    <tr>\n",
       "      <th>0</th>\n",
       "      <td>Merrie Berrie</td>\n",
       "      <td>450</td>\n",
       "      <td>1</td>\n",
       "      <td>170</td>\n",
       "      <td>0</td>\n",
       "      <td>0</td>\n",
       "      <td>3.3</td>\n",
       "      <td>7</td>\n",
       "    </tr>\n",
       "    <tr>\n",
       "      <th>1</th>\n",
       "      <td>Famous Jigarthanda</td>\n",
       "      <td>250</td>\n",
       "      <td>1</td>\n",
       "      <td>185</td>\n",
       "      <td>15</td>\n",
       "      <td>0</td>\n",
       "      <td>3.3</td>\n",
       "      <td>4</td>\n",
       "    </tr>\n",
       "    <tr>\n",
       "      <th>2</th>\n",
       "      <td>Aachi Mess</td>\n",
       "      <td>200</td>\n",
       "      <td>1</td>\n",
       "      <td>62</td>\n",
       "      <td>15</td>\n",
       "      <td>3</td>\n",
       "      <td>3.6</td>\n",
       "      <td>17</td>\n",
       "    </tr>\n",
       "    <tr>\n",
       "      <th>3</th>\n",
       "      <td>Ridhi Sidhi</td>\n",
       "      <td>150</td>\n",
       "      <td>1</td>\n",
       "      <td>182</td>\n",
       "      <td>2</td>\n",
       "      <td>0</td>\n",
       "      <td>3.1</td>\n",
       "      <td>12</td>\n",
       "    </tr>\n",
       "    <tr>\n",
       "      <th>4</th>\n",
       "      <td>Intervals</td>\n",
       "      <td>300</td>\n",
       "      <td>1</td>\n",
       "      <td>58</td>\n",
       "      <td>9</td>\n",
       "      <td>0</td>\n",
       "      <td>3.2</td>\n",
       "      <td>8</td>\n",
       "    </tr>\n",
       "  </tbody>\n",
       "</table>\n",
       "</div>"
      ],
      "text/plain": [
       "                 NAME  PRICE  CITY  REGION  CUSINE  RATING_TYPE RATING VOTES\n",
       "0       Merrie Berrie    450     1     170       0            0    3.3     7\n",
       "1  Famous Jigarthanda    250     1     185      15            0    3.3     4\n",
       "2          Aachi Mess    200     1      62      15            3    3.6    17\n",
       "3         Ridhi Sidhi    150     1     182       2            0    3.1    12\n",
       "4           Intervals    300     1      58       9            0    3.2     8"
      ]
     },
     "execution_count": 34,
     "metadata": {},
     "output_type": "execute_result"
    }
   ],
   "source": [
    "data.head()"
   ]
  },
  {
   "cell_type": "code",
   "execution_count": null,
   "metadata": {},
   "outputs": [],
   "source": []
  },
  {
   "cell_type": "code",
   "execution_count": 35,
   "metadata": {},
   "outputs": [
    {
     "data": {
      "text/plain": [
       "300     918\n",
       "400     680\n",
       "200     633\n",
       "500     511\n",
       "250     501\n",
       "350     300\n",
       "600     258\n",
       "150     254\n",
       "450     179\n",
       "700     125\n",
       "800     125\n",
       "100      80\n",
       "1000     74\n",
       "550      66\n",
       "650      52\n",
       "900      35\n",
       "1200     34\n",
       "1500     34\n",
       "750      26\n",
       "850      17\n",
       "1100     17\n",
       "1400     13\n",
       "2000     10\n",
       "950       7\n",
       "1800      7\n",
       "1300      6\n",
       "1600      6\n",
       "2500      5\n",
       "0         4\n",
       "180       3\n",
       "50        3\n",
       "3000      2\n",
       "1700      1\n",
       "1250      1\n",
       "1550      1\n",
       "160       1\n",
       "1350      1\n",
       "220       1\n",
       "260       1\n",
       "282       1\n",
       "299       1\n",
       "2700      1\n",
       "2600      1\n",
       "2400      1\n",
       "313       1\n",
       "2200      1\n",
       "575       1\n",
       "Name: PRICE, dtype: int64"
      ]
     },
     "execution_count": 35,
     "metadata": {},
     "output_type": "execute_result"
    }
   ],
   "source": [
    "data.PRICE.value_counts()\n"
   ]
  },
  {
   "cell_type": "code",
   "execution_count": 36,
   "metadata": {},
   "outputs": [
    {
     "data": {
      "text/plain": [
       "0    3540\n",
       "2     736\n",
       "1     724\n",
       "Name: CITY, dtype: int64"
      ]
     },
     "execution_count": 36,
     "metadata": {},
     "output_type": "execute_result"
    }
   ],
   "source": [
    "data.CITY.value_counts()\n"
   ]
  },
  {
   "cell_type": "code",
   "execution_count": 37,
   "metadata": {},
   "outputs": [
    {
     "data": {
      "text/plain": [
       "17     133\n",
       "170    133\n",
       "100    111\n",
       "212    107\n",
       "249    105\n",
       "      ... \n",
       "74       1\n",
       "78       1\n",
       "82       1\n",
       "90       1\n",
       "0        1\n",
       "Name: REGION, Length: 264, dtype: int64"
      ]
     },
     "execution_count": 37,
     "metadata": {},
     "output_type": "execute_result"
    }
   ],
   "source": [
    "data.REGION.value_counts()\n"
   ]
  },
  {
   "cell_type": "code",
   "execution_count": 38,
   "metadata": {},
   "outputs": [
    {
     "data": {
      "text/plain": [
       "15    2230\n",
       "4     1367\n",
       "17     327\n",
       "0      231\n",
       "3      230\n",
       "6      204\n",
       "2      149\n",
       "13      72\n",
       "11      54\n",
       "16      42\n",
       "9       38\n",
       "8       25\n",
       "10       8\n",
       "1        8\n",
       "7        7\n",
       "14       6\n",
       "5        1\n",
       "12       1\n",
       "Name: CUSINE, dtype: int64"
      ]
     },
     "execution_count": 38,
     "metadata": {},
     "output_type": "execute_result"
    }
   ],
   "source": [
    "data.CUSINE.value_counts()\n"
   ]
  },
  {
   "cell_type": "code",
   "execution_count": 39,
   "metadata": {},
   "outputs": [
    {
     "data": {
      "text/plain": [
       "0     2457\n",
       "3     1828\n",
       "8      611\n",
       "2       71\n",
       "4       21\n",
       "10       4\n",
       "5        2\n",
       "11       1\n",
       "7        1\n",
       "6        1\n",
       "9        1\n",
       "1        1\n",
       "12       1\n",
       "Name: RATING_TYPE, dtype: int64"
      ]
     },
     "execution_count": 39,
     "metadata": {},
     "output_type": "execute_result"
    }
   ],
   "source": [
    "data.RATING_TYPE.value_counts()\n"
   ]
  },
  {
   "cell_type": "code",
   "execution_count": 40,
   "metadata": {},
   "outputs": [
    {
     "data": {
      "text/plain": [
       "3.3    494\n",
       "3.4    484\n",
       "3.2    461\n",
       "3.5    441\n",
       "3.6    429\n",
       "3.7    372\n",
       "3.1    351\n",
       "3.8    320\n",
       "3.9    269\n",
       "3.0    253\n",
       "4.0    208\n",
       "2.9    189\n",
       "4.1    160\n",
       "4.2    107\n",
       "2.8    107\n",
       "4.3     91\n",
       "2.7     65\n",
       "4.4     50\n",
       "2.6     36\n",
       "4.5     30\n",
       "2.5     20\n",
       "4.6     20\n",
       "4.7     14\n",
       "2.4     11\n",
       "4.8      4\n",
       "4.9      4\n",
       "2.2      4\n",
       "2.3      3\n",
       "2.1      3\n",
       "Name: RATING, dtype: int64"
      ]
     },
     "execution_count": 40,
     "metadata": {},
     "output_type": "execute_result"
    }
   ],
   "source": [
    "data.RATING.value_counts()\n"
   ]
  },
  {
   "cell_type": "code",
   "execution_count": 41,
   "metadata": {},
   "outputs": [
    {
     "data": {
      "text/plain": [
       "4       196\n",
       "6       147\n",
       "10      132\n",
       "7       131\n",
       "5       130\n",
       "       ... \n",
       "4583      1\n",
       "778       1\n",
       "496       1\n",
       "613       1\n",
       "1914      1\n",
       "Name: VOTES, Length: 676, dtype: int64"
      ]
     },
     "execution_count": 41,
     "metadata": {},
     "output_type": "execute_result"
    }
   ],
   "source": [
    "data.VOTES.value_counts()\n"
   ]
  },
  {
   "cell_type": "code",
   "execution_count": null,
   "metadata": {},
   "outputs": [],
   "source": []
  },
  {
   "cell_type": "code",
   "execution_count": 42,
   "metadata": {},
   "outputs": [],
   "source": [
    "#Applying linear regression algorithm"
   ]
  },
  {
   "cell_type": "code",
   "execution_count": 43,
   "metadata": {},
   "outputs": [],
   "source": [
    "\n",
    "\n",
    "\n",
    "#Prepare a Linear REgression Model\n",
    "from sklearn.linear_model import LinearRegression\n",
    "reg=LinearRegression()\n",
    "reg.fit(x_train,y_train)\n",
    "y_pred=reg.predict(x_test)\n",
    "from sklearn.metrics import r2_score\n",
    "LR=r2_score(y_test,y_pred)*100\n",
    "\n"
   ]
  },
  {
   "cell_type": "code",
   "execution_count": 44,
   "metadata": {},
   "outputs": [
    {
     "data": {
      "text/plain": [
       "67.80552046731829"
      ]
     },
     "execution_count": 44,
     "metadata": {},
     "output_type": "execute_result"
    }
   ],
   "source": [
    "LR"
   ]
  },
  {
   "cell_type": "code",
   "execution_count": 45,
   "metadata": {},
   "outputs": [
    {
     "name": "stdout",
     "output_type": "stream",
     "text": [
      "enter the data in order : price city region cuisine rating.type votes\t:450 1 170 0 0 7\n"
     ]
    }
   ],
   "source": [
    "DATA1=[float(num) for num in (input(\"enter the data in order : price city region cuisine rating.type votes\\t:\").strip().split())]\n",
    "LRpredictions = reg.predict([DATA1])\n"
   ]
  },
  {
   "cell_type": "code",
   "execution_count": 62,
   "metadata": {},
   "outputs": [
    {
     "name": "stdout",
     "output_type": "stream",
     "text": [
      "Predicted rating for given values of \n",
      "Price:450.0 \n",
      "City:1.0 \n",
      "Region:170.0 \n",
      "Cusine:0.0\n",
      "Rating_Type:0.0\n",
      "Votes:7.0\n",
      "done by linear regression is\n",
      "\n",
      "\n",
      "[3.23190875]\n"
     ]
    }
   ],
   "source": [
    "print(\"Predicted rating for given values of \\nPrice:{} \\nCity:{} \\nRegion:{} \\nCusine:{}\\nRating_Type:{}\\nVotes:{}\\ndone by linear regression is\\n\".format(DATA1[0],DATA1[1],DATA1[2],DATA1[3],DATA1[4],DATA1[5]))\n",
    "print(\"\\n{}\".format(LRpredictions))      "
   ]
  },
  {
   "cell_type": "code",
   "execution_count": null,
   "metadata": {},
   "outputs": [],
   "source": []
  },
  {
   "cell_type": "code",
   "execution_count": 63,
   "metadata": {},
   "outputs": [],
   "source": [
    "from sklearn.linear_model import LogisticRegression\n",
    "logmodel = LogisticRegression()\n",
    "logmodel.fit(x_train,y_train)\n",
    "LR_pred = logmodel.predict(x_test)\n",
    "from sklearn.metrics import r2_score\n",
    "LOGR=r2_score(y_test,LR_pred)*100\n"
   ]
  },
  {
   "cell_type": "code",
   "execution_count": 64,
   "metadata": {},
   "outputs": [
    {
     "data": {
      "text/plain": [
       "37.92864300832319"
      ]
     },
     "execution_count": 64,
     "metadata": {},
     "output_type": "execute_result"
    }
   ],
   "source": [
    "LOGR"
   ]
  },
  {
   "cell_type": "code",
   "execution_count": 65,
   "metadata": {},
   "outputs": [
    {
     "name": "stdout",
     "output_type": "stream",
     "text": [
      "enter the data in order : price city region cuisine rating.type votes\t:450 1 170 0 0 7\n"
     ]
    }
   ],
   "source": [
    "DATA2=[float(num) for num in (input(\"enter the data in order : price city region cuisine rating.type votes\\t:\").strip().split())]\n",
    "LOGRpredictions = logmodel.predict([DATA2])\n"
   ]
  },
  {
   "cell_type": "code",
   "execution_count": 66,
   "metadata": {},
   "outputs": [
    {
     "name": "stdout",
     "output_type": "stream",
     "text": [
      "Predicted rating for given values of \n",
      "Price:450.0 \n",
      "City:1.0 \n",
      "Region:170.0 \n",
      "Cusine:0.0\n",
      "Rating_Type:0.0\n",
      "Votes:7.0\n",
      "done by logistic regression is\n",
      "\n",
      "\n",
      "['3.3']\n"
     ]
    }
   ],
   "source": [
    "print(\"Predicted rating for given values of \\nPrice:{} \\nCity:{} \\nRegion:{} \\nCusine:{}\\nRating_Type:{}\\nVotes:{}\\ndone by logistic regression is\\n\".format(DATA2[0],DATA2[1],DATA2[2],DATA1[3],DATA2[4],DATA2[5]))\n",
    "print(\"\\n{}\".format(LOGRpredictions))      "
   ]
  },
  {
   "cell_type": "code",
   "execution_count": null,
   "metadata": {},
   "outputs": [],
   "source": []
  },
  {
   "cell_type": "code",
   "execution_count": null,
   "metadata": {},
   "outputs": [],
   "source": []
  },
  {
   "cell_type": "code",
   "execution_count": 67,
   "metadata": {},
   "outputs": [],
   "source": [
    "#prepairng a Decision Tree Regression\n",
    "from sklearn.tree import DecisionTreeRegressor\n",
    "x_train,x_test,y_train,y_test=train_test_split(x,y,test_size=.1,random_state=105)\n",
    "DTree=DecisionTreeRegressor(min_samples_leaf=.0001)\n",
    "DTree.fit(x_train,y_train)\n",
    "y_predict=DTree.predict(x_test)\n",
    "from sklearn.metrics import r2_score\n",
    "DT=r2_score(y_test,y_predict)*100"
   ]
  },
  {
   "cell_type": "code",
   "execution_count": 68,
   "metadata": {},
   "outputs": [
    {
     "data": {
      "text/plain": [
       "65.73390664499821"
      ]
     },
     "execution_count": 68,
     "metadata": {},
     "output_type": "execute_result"
    }
   ],
   "source": [
    "DT"
   ]
  },
  {
   "cell_type": "code",
   "execution_count": 69,
   "metadata": {
    "scrolled": true
   },
   "outputs": [
    {
     "name": "stdout",
     "output_type": "stream",
     "text": [
      "enter the data in order : price city region cuisine rating.type votes\t:450 1 170 0 0 7\n"
     ]
    }
   ],
   "source": [
    "DATA3=[float(num) for num in (input(\"enter the data in order : price city region cuisine rating.type votes\\t:\").strip().split())]\n",
    "DTpredictions = DTree.predict([DATA3])\n"
   ]
  },
  {
   "cell_type": "code",
   "execution_count": 70,
   "metadata": {},
   "outputs": [
    {
     "name": "stdout",
     "output_type": "stream",
     "text": [
      "Predicted rating for given values of \n",
      "Price:450.0 \n",
      "City:1.0 \n",
      "Region:170.0 \n",
      "Cusine:0.0\n",
      "Rating_Type:0.0\n",
      "Votes:7.0\n",
      "done by Decision tree classifier is\n",
      "\n",
      "\n",
      "[3.3]\n"
     ]
    }
   ],
   "source": [
    "print(\"Predicted rating for given values of \\nPrice:{} \\nCity:{} \\nRegion:{} \\nCusine:{}\\nRating_Type:{}\\nVotes:{}\\ndone by Decision tree classifier is\\n\".format(DATA3[0],DATA3[1],DATA3[2],DATA3[3],DATA3[4],DATA3[5]))\n",
    "print(\"\\n{}\".format(DTpredictions))      "
   ]
  },
  {
   "cell_type": "code",
   "execution_count": 74,
   "metadata": {},
   "outputs": [],
   "source": [
    "mdata = pd.DataFrame({'score':[LR,LOGR,DT],\n",
    "                  'models':[\"Linearregresion\",\"LogisticRegression\",\"Decisiontree\"]})"
   ]
  },
  {
   "cell_type": "code",
   "execution_count": 75,
   "metadata": {
    "scrolled": true
   },
   "outputs": [
    {
     "data": {
      "text/html": [
       "<div>\n",
       "<style scoped>\n",
       "    .dataframe tbody tr th:only-of-type {\n",
       "        vertical-align: middle;\n",
       "    }\n",
       "\n",
       "    .dataframe tbody tr th {\n",
       "        vertical-align: top;\n",
       "    }\n",
       "\n",
       "    .dataframe thead th {\n",
       "        text-align: right;\n",
       "    }\n",
       "</style>\n",
       "<table border=\"1\" class=\"dataframe\">\n",
       "  <thead>\n",
       "    <tr style=\"text-align: right;\">\n",
       "      <th></th>\n",
       "      <th>score</th>\n",
       "      <th>models</th>\n",
       "    </tr>\n",
       "  </thead>\n",
       "  <tbody>\n",
       "    <tr>\n",
       "      <th>0</th>\n",
       "      <td>67.805520</td>\n",
       "      <td>Linearregresion</td>\n",
       "    </tr>\n",
       "    <tr>\n",
       "      <th>1</th>\n",
       "      <td>37.928643</td>\n",
       "      <td>LogisticRegression</td>\n",
       "    </tr>\n",
       "    <tr>\n",
       "      <th>2</th>\n",
       "      <td>65.733907</td>\n",
       "      <td>Decisiontree</td>\n",
       "    </tr>\n",
       "  </tbody>\n",
       "</table>\n",
       "</div>"
      ],
      "text/plain": [
       "       score              models\n",
       "0  67.805520     Linearregresion\n",
       "1  37.928643  LogisticRegression\n",
       "2  65.733907        Decisiontree"
      ]
     },
     "execution_count": 75,
     "metadata": {},
     "output_type": "execute_result"
    }
   ],
   "source": [
    "mdata"
   ]
  },
  {
   "cell_type": "code",
   "execution_count": 77,
   "metadata": {},
   "outputs": [
    {
     "data": {
      "text/plain": [
       "<matplotlib.axes._subplots.AxesSubplot at 0x7f369749c220>"
      ]
     },
     "execution_count": 77,
     "metadata": {},
     "output_type": "execute_result"
    },
    {
     "data": {
      "image/png": "[encoded data removed]",
      "text/plain": [
       "<Figure size 432x288 with 1 Axes>"
      ]
     },
     "metadata": {
      "needs_background": "light"
     },
     "output_type": "display_data"
    }
   ],
   "source": [
    "sns.barplot(x='models',y='score',data=mdata,estimator=np.mean)"
   ]
  },
  {
   "cell_type": "code",
   "execution_count": null,
   "metadata": {},
   "outputs": [],
   "source": [
    "                                    ********** | ***********"
   ]
  },
  {
   "cell_type": "code",
   "execution_count": null,
   "metadata": {},
   "outputs": [],
   "source": []
  },
  {
   "cell_type": "code",
   "execution_count": null,
   "metadata": {},
   "outputs": [],
   "source": []
  },
  {
   "cell_type": "code",
   "execution_count": null,
   "metadata": {},
   "outputs": [],
   "source": []
  },
  {
   "cell_type": "code",
   "execution_count": null,
   "metadata": {},
   "outputs": [],
   "source": []
  },
  {
   "cell_type": "code",
   "execution_count": null,
   "metadata": {},
   "outputs": [],
   "source": []
  },
  {
   "cell_type": "code",
   "execution_count": null,
   "metadata": {},
   "outputs": [],
   "source": []
  },
  {
   "cell_type": "code",
   "execution_count": null,
   "metadata": {},
   "outputs": [],
   "source": []
  },
  {
   "cell_type": "code",
   "execution_count": null,
   "metadata": {},
   "outputs": [],
   "source": []
  }
 ],
 "metadata": {
  "kernelspec": {
   "display_name": "Python 3",
   "language": "python",
   "name": "python3"
  },
  "language_info": {
   "codemirror_mode": {
    "name": "ipython",
    "version": 3
   },
   "file_extension": ".py",
   "mimetype": "text/x-python",
   "name": "python",
   "nbconvert_exporter": "python",
   "pygments_lexer": "ipython3",
   "version": "3.8.2"
  }
 },
 "nbformat": 4,
 "nbformat_minor": 4
}
